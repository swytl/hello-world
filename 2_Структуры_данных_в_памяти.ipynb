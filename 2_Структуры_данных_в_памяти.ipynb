{
  "nbformat": 4,
  "nbformat_minor": 0,
  "metadata": {
    "colab": {
      "name": "2. Структуры данных в памяти",
      "provenance": [],
      "collapsed_sections": [],
      "include_colab_link": true
    },
    "kernelspec": {
      "name": "python3",
      "display_name": "Python 3"
    }
  },
  "cells": [
    {
      "cell_type": "markdown",
      "metadata": {
        "id": "view-in-github",
        "colab_type": "text"
      },
      "source": [
        "<a href=\"https://colab.research.google.com/github/swytl/hello-world/blob/master/2_%D0%A1%D1%82%D1%80%D1%83%D0%BA%D1%82%D1%83%D1%80%D1%8B_%D0%B4%D0%B0%D0%BD%D0%BD%D1%8B%D1%85_%D0%B2_%D0%BF%D0%B0%D0%BC%D1%8F%D1%82%D0%B8.ipynb\" target=\"_parent\"><img src=\"https://colab.research.google.com/assets/colab-badge.svg\" alt=\"Open In Colab\"/></a>"
      ]
    },
    {
      "cell_type": "markdown",
      "metadata": {
        "id": "3oMZZFcXtQLN",
        "colab_type": "text"
      },
      "source": [
        "#Операция присваивания\n",
        " **Изменяемые** и **неизменяемые** типы"
      ]
    },
    {
      "cell_type": "code",
      "metadata": {
        "id": "IVIW8d5xpxym",
        "colab_type": "code",
        "colab": {
          "base_uri": "https://localhost:8080/",
          "height": 34
        },
        "outputId": "060321e3-c0c6-4ddb-dddc-38425f74eae3"
      },
      "source": [
        "# Операция присваивания\n",
        "# Для \"Неизменяемых\" типов (immutable)\n",
        "x = 3 \n",
        "y = x\n",
        "y = 4\n",
        "print(x)"
      ],
      "execution_count": null,
      "outputs": [
        {
          "output_type": "stream",
          "text": [
            "3\n"
          ],
          "name": "stdout"
        }
      ]
    },
    {
      "cell_type": "code",
      "metadata": {
        "id": "ZRxSDROrp89G",
        "colab_type": "code",
        "colab": {
          "base_uri": "https://localhost:8080/",
          "height": 34
        },
        "outputId": "f400d83b-831d-4d30-c3ed-39f266a38a44"
      },
      "source": [
        "#Присваивание для \"Изменяемых\"(mutable)\n",
        "a = [1,2,3]\n",
        "b = ['a','b','c']\n",
        "a = b \n",
        "a.append('3')\n",
        "print(b)"
      ],
      "execution_count": 1,
      "outputs": [
        {
          "output_type": "stream",
          "text": [
            "['a', 'b', 'c', '3']\n"
          ],
          "name": "stdout"
        }
      ]
    },
    {
      "cell_type": "markdown",
      "metadata": {
        "id": "mb--r42zr736",
        "colab_type": "text"
      },
      "source": [
        "#Коллекции (Наборы) \n",
        "\n",
        "\n",
        "**Кортежи** () - простой *неизменяемый* набор элментов любого типа *tuple*\n",
        "\n",
        "**Списки** [] - простой *изменяемый* набор элементов любого типа *list*\n",
        "\n",
        "\n",
        "**Строки** ''/\"\"/\"\"\" \"\"\" - *неизменяемый* тип, набор символов *string*\n",
        "\n",
        "**Словари** {} - *изменяемый* тип, отображение между набором \"ключей\" и  \"значений\" *dictionary*\n",
        "\n",
        "**Множества** set() - набор уникальных жементв. Рассмотрим отдельно"
      ]
    },
    {
      "cell_type": "code",
      "metadata": {
        "id": "TfPiXgmerxw5",
        "colab_type": "code",
        "colab": {
          "base_uri": "https://localhost:8080/",
          "height": 34
        },
        "outputId": "ac49bc22-6a31-4c34-ccfb-6b5309e3dc20"
      },
      "source": [
        "# Кортеж - неизменяемый тип во всех отношениях\n",
        "# Вот так нельзя:\n",
        "t = (23 ,'abc', 4.56 , (2 ,3) ,'def')\n",
        "# t[2] = 3.14 # такое же обращение к элементу во всех коллекциях\n",
        "t = (23 ,'abc', 3.14 , (2 ,3) ,'def')\n",
        "t \n"
      ],
      "execution_count": null,
      "outputs": [
        {
          "output_type": "execute_result",
          "data": {
            "text/plain": [
              "(23, 'abc', 3.14, (2, 3), 'def')"
            ]
          },
          "metadata": {
            "tags": []
          },
          "execution_count": 4
        }
      ]
    },
    {
      "cell_type": "code",
      "metadata": {
        "id": "jjZdJPn2uEVd",
        "colab_type": "code",
        "colab": {
          "base_uri": "https://localhost:8080/",
          "height": 34
        },
        "outputId": "960ca161-5de1-4996-9d6e-3ca116e0c0e0"
      },
      "source": [
        "#Нужно заново выделять память и переназначать:\n",
        "t = (23 ,'abc', 4.56 , (2 ,3) ,'def')\n",
        "t = (23 ,'abc', 3.14 , (2 ,3) ,'def')\n",
        "print(t)"
      ],
      "execution_count": null,
      "outputs": [
        {
          "output_type": "stream",
          "text": [
            "(23, 'abc', 3.14, (2, 3), 'def')\n"
          ],
          "name": "stdout"
        }
      ]
    },
    {
      "cell_type": "code",
      "metadata": {
        "id": "1SFFaLqJuXAG",
        "colab_type": "code",
        "colab": {
          "base_uri": "https://localhost:8080/",
          "height": 34
        },
        "outputId": "087cb6de-56b8-4ef1-e82d-6478da862a1b"
      },
      "source": [
        "# Списки - изменяемые.\n",
        "li = [ 23 , 4.34 , 23]\n",
        "li[1] = 45\n",
        "li #тоже способ выводить (типа консоль, интерпретация, все дела)\n"
      ],
      "execution_count": null,
      "outputs": [
        {
          "output_type": "execute_result",
          "data": {
            "text/plain": [
              "[23, 45, 23]"
            ]
          },
          "metadata": {
            "tags": []
          },
          "execution_count": 6
        }
      ]
    },
    {
      "cell_type": "markdown",
      "metadata": {
        "id": "vNzMj525vLJS",
        "colab_type": "text"
      },
      "source": [
        "li - указывает на ту же память.\n",
        "\n",
        "Динамическая память под списки означает только одно: **списки медленне кортежей**"
      ]
    },
    {
      "cell_type": "code",
      "metadata": {
        "id": "wI205EHEvSip",
        "colab_type": "code",
        "colab": {}
      },
      "source": [
        "# Строки - набор символов\n",
        "t = 'Ястрока'\n",
        "#t[2] = 'G'\n",
        "t =\"\"\" dasdasd\n",
        "            asdasda\n",
        "asdasdas\n",
        "asd \n",
        "\"\"\" # многострочный ввод\n",
        "t+='12312322'\n"
      ],
      "execution_count": 2,
      "outputs": []
    },
    {
      "cell_type": "markdown",
      "metadata": {
        "id": "xqZ_R_xoq0QO",
        "colab_type": "text"
      },
      "source": [
        "## **Срезы** - позволяют создать копию части последовательности"
      ]
    },
    {
      "cell_type": "code",
      "metadata": {
        "id": "RvOK3NIYqPpv",
        "colab_type": "code",
        "colab": {
          "base_uri": "https://localhost:8080/",
          "height": 67
        },
        "outputId": "c5995031-ee24-46d2-9e3a-7d87a4e4c4ce"
      },
      "source": [
        "t = [0,1,2,3,4]\n",
        "print(t[:2]) #Копия списка до 2-го элемента\n",
        "print(t[:]) #Копия всего\n",
        "t1 = t #Ссылаются на одну память\n",
        "t2 = t[:] #Ссылаются на разную память\n",
        "t1.append('k')\n",
        "t2.append('y')\n",
        "t\n",
        "# [с какого: до какого: шаг]"
      ],
      "execution_count": null,
      "outputs": [
        {
          "output_type": "stream",
          "text": [
            "[0, 1]\n",
            "[0, 1, 2, 3, 4]\n"
          ],
          "name": "stdout"
        },
        {
          "output_type": "execute_result",
          "data": {
            "text/plain": [
              "[0, 1, 2, 3, 4, 'k']"
            ]
          },
          "metadata": {
            "tags": []
          },
          "execution_count": 15
        }
      ]
    },
    {
      "cell_type": "markdown",
      "metadata": {
        "id": "loQLFWelrhLn",
        "colab_type": "text"
      },
      "source": [
        "## **Операторы** \n",
        "\n",
        "\\+ - сложение\n",
        "\n",
        "in - проверка вхождения\n",
        "\n",
        "\\* - умножения"
      ]
    },
    {
      "cell_type": "code",
      "metadata": {
        "id": "uDWoYWbOroTb",
        "colab_type": "code",
        "colab": {
          "base_uri": "https://localhost:8080/",
          "height": 34
        },
        "outputId": "a257605c-fd97-4294-8631-ce5797e2442c"
      },
      "source": [
        "l = [1,2,3,4]\n",
        "2 in l #Проверка"
      ],
      "execution_count": null,
      "outputs": [
        {
          "output_type": "execute_result",
          "data": {
            "text/plain": [
              "True"
            ]
          },
          "metadata": {
            "tags": []
          },
          "execution_count": 16
        }
      ]
    },
    {
      "cell_type": "code",
      "metadata": {
        "id": "g9iFkoxQsGYi",
        "colab_type": "code",
        "colab": {
          "base_uri": "https://localhost:8080/",
          "height": 35
        },
        "outputId": "8149c888-1d8d-4814-be4b-a247b4aa6a9e"
      },
      "source": [
        "a = 'abcd'\n",
        "a *= 3\n",
        "a"
      ],
      "execution_count": null,
      "outputs": [
        {
          "output_type": "execute_result",
          "data": {
            "application/vnd.google.colaboratory.intrinsic+json": {
              "type": "string"
            },
            "text/plain": [
              "'abcdabcdabcd'"
            ]
          },
          "metadata": {
            "tags": []
          },
          "execution_count": 17
        }
      ]
    },
    {
      "cell_type": "code",
      "metadata": {
        "id": "O00cAVQqsMMt",
        "colab_type": "code",
        "colab": {
          "base_uri": "https://localhost:8080/",
          "height": 34
        },
        "outputId": "be4e2799-adde-4d9b-b446-4b6e2f37c99a"
      },
      "source": [
        "c = (1,2,3) + (2,3,4)\n",
        "c"
      ],
      "execution_count": null,
      "outputs": [
        {
          "output_type": "execute_result",
          "data": {
            "text/plain": [
              "(1, 2, 3, 2, 3, 4)"
            ]
          },
          "metadata": {
            "tags": []
          },
          "execution_count": 18
        }
      ]
    },
    {
      "cell_type": "markdown",
      "metadata": {
        "id": "kEGV-MwztLYM",
        "colab_type": "text"
      },
      "source": [
        "### **Для Списков ONLY**\n"
      ]
    },
    {
      "cell_type": "code",
      "metadata": {
        "id": "oFaMyaNgsVkS",
        "colab_type": "code",
        "colab": {
          "base_uri": "https://localhost:8080/",
          "height": 34
        },
        "outputId": "3590e523-6552-4fc6-f6c5-2f12d2979152"
      },
      "source": [
        "li = [1,5,21,123,56,2,3]\n",
        "li.reverse()\n",
        "li"
      ],
      "execution_count": null,
      "outputs": [
        {
          "output_type": "execute_result",
          "data": {
            "text/plain": [
              "[3, 2, 56, 123, 21, 5, 1]"
            ]
          },
          "metadata": {
            "tags": []
          },
          "execution_count": 22
        }
      ]
    },
    {
      "cell_type": "code",
      "metadata": {
        "id": "TqzUlbaHte9t",
        "colab_type": "code",
        "colab": {
          "base_uri": "https://localhost:8080/",
          "height": 34
        },
        "outputId": "d85a1d94-5969-45c7-e2c5-55870979a837"
      },
      "source": [
        "li.sort()\n",
        "li"
      ],
      "execution_count": null,
      "outputs": [
        {
          "output_type": "execute_result",
          "data": {
            "text/plain": [
              "[1, 2, 3, 5, 21, 56, 123]"
            ]
          },
          "metadata": {
            "tags": []
          },
          "execution_count": 24
        }
      ]
    },
    {
      "cell_type": "code",
      "metadata": {
        "id": "aQzC1AUDtsjn",
        "colab_type": "code",
        "colab": {
          "base_uri": "https://localhost:8080/",
          "height": 50
        },
        "outputId": "e49971ff-ba88-47d5-e0b1-8a1ed401f8e0"
      },
      "source": [
        "# Пример сортировки для Не-Скалярного списка\n",
        "# достаём \"ключ\"\n",
        "def sortSecond(val):\n",
        "    return val[1]\n",
        "\n",
        "# используем второй элемент как ключ\n",
        "list1 = [(1 , 2), (3, 1), (1, 1)]\n",
        "\n",
        "list1.sort(key = sortSecond) # берет элмента \n",
        "print(list1)\n",
        "\n",
        "# в обратном порядке\n",
        "list1.sort( key = sortSecond, reverse = True)\n",
        "print(list1)"
      ],
      "execution_count": null,
      "outputs": [
        {
          "output_type": "stream",
          "text": [
            "[(3, 1), (1, 1), (1, 2)]\n",
            "[(1, 2), (3, 1), (1, 1)]\n"
          ],
          "name": "stdout"
        }
      ]
    },
    {
      "cell_type": "markdown",
      "metadata": {
        "id": "SDE-pP8yuQAD",
        "colab_type": "text"
      },
      "source": [
        "## **Словари**\n",
        "\n",
        "Набор пар \"ключ\" - \"значение\"\n",
        "\n"
      ]
    },
    {
      "cell_type": "code",
      "metadata": {
        "id": "udGpwQsluPTu",
        "colab_type": "code",
        "colab": {
          "base_uri": "https://localhost:8080/",
          "height": 35
        },
        "outputId": "373bd70d-d8a9-4108-bb28-80652b170734"
      },
      "source": [
        "d = {'user':'Kolya', 'pas':1234}\n",
        "d['user']\n",
        "# d['Kolya'] #что будет?\n"
      ],
      "execution_count": null,
      "outputs": [
        {
          "output_type": "execute_result",
          "data": {
            "application/vnd.google.colaboratory.intrinsic+json": {
              "type": "string"
            },
            "text/plain": [
              "'Kolya'"
            ]
          },
          "metadata": {
            "tags": []
          },
          "execution_count": 30
        }
      ]
    },
    {
      "cell_type": "code",
      "metadata": {
        "id": "7W-fUjJlaQ6R",
        "colab_type": "code",
        "colab": {
          "base_uri": "https://localhost:8080/",
          "height": 34
        },
        "outputId": "f61e1dff-a105-42d4-ba11-38e68f10eb00"
      },
      "source": [
        "# Измениение значений, добавление новых\n",
        "d['user'] = 'Vova'\n",
        "d['id'] = 19960610\n",
        "d"
      ],
      "execution_count": null,
      "outputs": [
        {
          "output_type": "execute_result",
          "data": {
            "text/plain": [
              "{'id': 19960610, 'pas': 1234, 'user': 'Vova'}"
            ]
          },
          "metadata": {
            "tags": []
          },
          "execution_count": 31
        }
      ]
    },
    {
      "cell_type": "code",
      "metadata": {
        "id": "79osof4iaXwW",
        "colab_type": "code",
        "colab": {
          "base_uri": "https://localhost:8080/",
          "height": 34
        },
        "outputId": "c18985f5-df39-4b64-812d-9c69198baad6"
      },
      "source": [
        "#Удалим одну пару\n",
        "del(d['user'])\n",
        "d"
      ],
      "execution_count": null,
      "outputs": [
        {
          "output_type": "execute_result",
          "data": {
            "text/plain": [
              "{'id': 19960610, 'pas': 1234}"
            ]
          },
          "metadata": {
            "tags": []
          },
          "execution_count": 32
        }
      ]
    },
    {
      "cell_type": "code",
      "metadata": {
        "id": "1LEqyci_aqfs",
        "colab_type": "code",
        "colab": {
          "base_uri": "https://localhost:8080/",
          "height": 34
        },
        "outputId": "a667a579-5186-4794-da39-731cdbb93f23"
      },
      "source": [
        "# Очистка словаря\n",
        "d.clear()\n",
        "d"
      ],
      "execution_count": null,
      "outputs": [
        {
          "output_type": "execute_result",
          "data": {
            "text/plain": [
              "{}"
            ]
          },
          "metadata": {
            "tags": []
          },
          "execution_count": 33
        }
      ]
    },
    {
      "cell_type": "code",
      "metadata": {
        "id": "pG473jTZatqo",
        "colab_type": "code",
        "colab": {
          "base_uri": "https://localhost:8080/",
          "height": 34
        },
        "outputId": "11c335ac-b3fc-44a3-832f-6afc934bb14e"
      },
      "source": [
        "# Набор ключей\n",
        "d = {'user':'Kolya', 'pas':1234}\n",
        "d.keys()"
      ],
      "execution_count": null,
      "outputs": [
        {
          "output_type": "execute_result",
          "data": {
            "text/plain": [
              "dict_keys(['user', 'pas'])"
            ]
          },
          "metadata": {
            "tags": []
          },
          "execution_count": 34
        }
      ]
    },
    {
      "cell_type": "code",
      "metadata": {
        "id": "-wzSe2wObBGS",
        "colab_type": "code",
        "colab": {
          "base_uri": "https://localhost:8080/",
          "height": 34
        },
        "outputId": "1c158dec-43e0-49c3-c496-707d587eff8c"
      },
      "source": [
        "# Значения\n",
        "d.values()"
      ],
      "execution_count": null,
      "outputs": [
        {
          "output_type": "execute_result",
          "data": {
            "text/plain": [
              "dict_values(['Kolya', 1234])"
            ]
          },
          "metadata": {
            "tags": []
          },
          "execution_count": 35
        }
      ]
    },
    {
      "cell_type": "code",
      "metadata": {
        "id": "W127EWYKbCv4",
        "colab_type": "code",
        "colab": {
          "base_uri": "https://localhost:8080/",
          "height": 34
        },
        "outputId": "20db0ba9-7860-403a-b3cc-b513d285c04e"
      },
      "source": [
        "# Элементы словаря - парные кортежи (tuples)\n",
        "d.items()"
      ],
      "execution_count": null,
      "outputs": [
        {
          "output_type": "execute_result",
          "data": {
            "text/plain": [
              "dict_items([('user', 'Kolya'), ('pas', 1234)])"
            ]
          },
          "metadata": {
            "tags": []
          },
          "execution_count": 36
        }
      ]
    },
    {
      "cell_type": "markdown",
      "metadata": {
        "id": "XhT71YGjbTqX",
        "colab_type": "text"
      },
      "source": [
        "## **Множества**\n",
        "- ***Изменяемый*** набор\n",
        "- Неструктурированный\n",
        "- Элементы уникальны\n",
        "- Элементы ***Неизменяемые***\n",
        "\n",
        "Удобство в наличии алгебры множеств - пересечения, объединения и тд"
      ]
    },
    {
      "cell_type": "code",
      "metadata": {
        "id": "d3jVCQ3wbvYj",
        "colab_type": "code",
        "colab": {
          "base_uri": "https://localhost:8080/",
          "height": 195
        },
        "outputId": "ebcce247-64f2-4310-c343-f2508b806ca3"
      },
      "source": [
        "# Какая строка выдаст ошибку?\n",
        "s = set([1,2,3])\n",
        "s = set(['a','b','c'])\n",
        "s = set([(1,2),(3,4),(5,6)])\n",
        "s = set([[1],[3],[4]])\n"
      ],
      "execution_count": null,
      "outputs": [
        {
          "output_type": "error",
          "ename": "TypeError",
          "evalue": "ignored",
          "traceback": [
            "\u001b[0;31m---------------------------------------------------------------------------\u001b[0m",
            "\u001b[0;31mTypeError\u001b[0m                                 Traceback (most recent call last)",
            "\u001b[0;32m<ipython-input-39-f132e44ca340>\u001b[0m in \u001b[0;36m<module>\u001b[0;34m()\u001b[0m\n\u001b[1;32m      3\u001b[0m \u001b[0ms\u001b[0m \u001b[0;34m=\u001b[0m \u001b[0mset\u001b[0m\u001b[0;34m(\u001b[0m\u001b[0;34m[\u001b[0m\u001b[0;34m'a'\u001b[0m\u001b[0;34m,\u001b[0m\u001b[0;34m'b'\u001b[0m\u001b[0;34m,\u001b[0m\u001b[0;34m'c'\u001b[0m\u001b[0;34m]\u001b[0m\u001b[0;34m)\u001b[0m\u001b[0;34m\u001b[0m\u001b[0;34m\u001b[0m\u001b[0m\n\u001b[1;32m      4\u001b[0m \u001b[0ms\u001b[0m \u001b[0;34m=\u001b[0m \u001b[0mset\u001b[0m\u001b[0;34m(\u001b[0m\u001b[0;34m[\u001b[0m\u001b[0;34m(\u001b[0m\u001b[0;36m1\u001b[0m\u001b[0;34m,\u001b[0m\u001b[0;36m2\u001b[0m\u001b[0;34m)\u001b[0m\u001b[0;34m,\u001b[0m\u001b[0;34m(\u001b[0m\u001b[0;36m3\u001b[0m\u001b[0;34m,\u001b[0m\u001b[0;36m4\u001b[0m\u001b[0;34m)\u001b[0m\u001b[0;34m,\u001b[0m\u001b[0;34m(\u001b[0m\u001b[0;36m5\u001b[0m\u001b[0;34m,\u001b[0m\u001b[0;36m6\u001b[0m\u001b[0;34m)\u001b[0m\u001b[0;34m]\u001b[0m\u001b[0;34m)\u001b[0m\u001b[0;34m\u001b[0m\u001b[0;34m\u001b[0m\u001b[0m\n\u001b[0;32m----> 5\u001b[0;31m \u001b[0ms\u001b[0m \u001b[0;34m=\u001b[0m \u001b[0mset\u001b[0m\u001b[0;34m(\u001b[0m\u001b[0;34m[\u001b[0m\u001b[0;34m[\u001b[0m\u001b[0;36m1\u001b[0m\u001b[0;34m]\u001b[0m\u001b[0;34m,\u001b[0m\u001b[0;34m[\u001b[0m\u001b[0;36m3\u001b[0m\u001b[0;34m]\u001b[0m\u001b[0;34m,\u001b[0m\u001b[0;34m[\u001b[0m\u001b[0;36m4\u001b[0m\u001b[0;34m]\u001b[0m\u001b[0;34m]\u001b[0m\u001b[0;34m)\u001b[0m\u001b[0;34m\u001b[0m\u001b[0;34m\u001b[0m\u001b[0m\n\u001b[0m",
            "\u001b[0;31mTypeError\u001b[0m: unhashable type: 'list'"
          ]
        }
      ]
    },
    {
      "cell_type": "code",
      "metadata": {
        "id": "CC-Jqa6kcOr0",
        "colab_type": "code",
        "colab": {
          "base_uri": "https://localhost:8080/",
          "height": 50
        },
        "outputId": "82945a3a-d89b-4c6e-e917-1925f2a0ff1c"
      },
      "source": [
        "# примерчик \n",
        "sng = set(['kaz','belrs','rus'])\n",
        "\n",
        "# Индия уже в СНГ?\n",
        "print('India' in sng)\n",
        "\n",
        "# А вот Россия - кажется да\n",
        "print('rus' in sng)\n"
      ],
      "execution_count": null,
      "outputs": [
        {
          "output_type": "stream",
          "text": [
            "False\n",
            "True\n"
          ],
          "name": "stdout"
        }
      ]
    },
    {
      "cell_type": "code",
      "metadata": {
        "id": "3VHd_xE5dBKP",
        "colab_type": "code",
        "colab": {
          "base_uri": "https://localhost:8080/",
          "height": 34
        },
        "outputId": "f0ba49f8-f767-4251-c074-457edd845ddd"
      },
      "source": [
        "# об этом чуть позже\n",
        "sng_a = sng.copy() \n",
        "\n",
        "sng_a.add('ukr')\n",
        "# Является ли sng подмножеством sng_a\n",
        "sng_a.issuperset(sng)\n"
      ],
      "execution_count": null,
      "outputs": [
        {
          "output_type": "execute_result",
          "data": {
            "text/plain": [
              "True"
            ]
          },
          "metadata": {
            "tags": []
          },
          "execution_count": 40
        }
      ]
    },
    {
      "cell_type": "code",
      "metadata": {
        "id": "Zwcbw1wReNpZ",
        "colab_type": "code",
        "colab": {
          "base_uri": "https://localhost:8080/",
          "height": 34
        },
        "outputId": "d0c453ed-a3fc-420d-c346-cf88ec275a74"
      },
      "source": [
        "sng.remove('rus')\n",
        "sng & sng_a  #sng.intersection(sng_a) - наше любимое пересечение\n"
      ],
      "execution_count": null,
      "outputs": [
        {
          "output_type": "execute_result",
          "data": {
            "text/plain": [
              "{'belrs', 'kaz'}"
            ]
          },
          "metadata": {
            "tags": []
          },
          "execution_count": 41
        }
      ]
    },
    {
      "cell_type": "code",
      "metadata": {
        "id": "by0oYs20mkoG",
        "colab_type": "code",
        "colab": {
          "base_uri": "https://localhost:8080/",
          "height": 34
        },
        "outputId": "d260ca23-2cdf-4d13-c6b2-5ea7141a94a6"
      },
      "source": [
        "#ЗАЧЕМ!?\n",
        "# a = {'a','b','c'}\n",
        "a.add('a')\n",
        "a.add('a')\n",
        "a.add('a')\n",
        "a.add('a')\n",
        "a.add('a')\n",
        "a.add('a')\n",
        "a.add('a')\n",
        "a.add('a')\n",
        "a.add('a')\n",
        "a.add('a')\n",
        "\n",
        "a"
      ],
      "execution_count": null,
      "outputs": [
        {
          "output_type": "execute_result",
          "data": {
            "text/plain": [
              "{'a', 'b', 'c'}"
            ]
          },
          "metadata": {
            "tags": []
          },
          "execution_count": 45
        }
      ]
    },
    {
      "cell_type": "markdown",
      "metadata": {
        "id": "KlhZglUResMJ",
        "colab_type": "text"
      },
      "source": [
        "# **Копии Объектов**\n",
        "\n",
        "Зачем нам копии объектов и какие они бывают. Говорим только о \"mutable\" - то есть:\n",
        "- **Присваивание** \n",
        "y = x, меняем y - меняется х\n",
        "\n",
        "Может нужна копия? \n",
        "- **Неполная (shallow copy)** создается отдельная память верхнего уровня. Но если объект - контейнер (набор), то его элементы указывают на орригинальный набор\n",
        "\n",
        "- **Полня (deep copy)** создается новый объект и по рекурсии все ссылки внутри заменяются\n",
        "\n"
      ]
    },
    {
      "cell_type": "code",
      "metadata": {
        "id": "j0a5HaeYgefz",
        "colab_type": "code",
        "colab": {
          "base_uri": "https://localhost:8080/",
          "height": 50
        },
        "outputId": "ae6d7ee2-c026-49dc-c471-77e517d514df"
      },
      "source": [
        "a = [[1],[2],[3]]\n",
        "b = a.copy()\n",
        "\n",
        "print(a,b, sep ='\\n')"
      ],
      "execution_count": null,
      "outputs": [
        {
          "output_type": "stream",
          "text": [
            "[[1], [2], [3]]\n",
            "[[1], [2], [3]]\n"
          ],
          "name": "stdout"
        }
      ]
    },
    {
      "cell_type": "code",
      "metadata": {
        "id": "ELR6N_1ngwHe",
        "colab_type": "code",
        "colab": {
          "base_uri": "https://localhost:8080/",
          "height": 50
        },
        "outputId": "0d3869b6-97da-4f41-d456-78934762da15"
      },
      "source": [
        "a[0][0] = 0\n",
        "a[1] = None\n",
        "print(a,b, sep ='\\n')\n"
      ],
      "execution_count": null,
      "outputs": [
        {
          "output_type": "stream",
          "text": [
            "[[0], None, [3]]\n",
            "[[0], [2], [3]]\n"
          ],
          "name": "stdout"
        }
      ]
    },
    {
      "cell_type": "code",
      "metadata": {
        "id": "sTY3U7sJg5Vr",
        "colab_type": "code",
        "colab": {
          "base_uri": "https://localhost:8080/",
          "height": 50
        },
        "outputId": "d5057c68-2fc5-4814-efa5-527c1e2a0603"
      },
      "source": [
        "import copy\n",
        "a = [[1],[2],[3]]\n",
        "b = copy.deepcopy(a)\n",
        "\n",
        "print(a,b, sep ='\\n')\n"
      ],
      "execution_count": null,
      "outputs": [
        {
          "output_type": "stream",
          "text": [
            "[[1], [2], [3]]\n",
            "[[1], [2], [3]]\n"
          ],
          "name": "stdout"
        }
      ]
    },
    {
      "cell_type": "code",
      "metadata": {
        "id": "uk_amVMohPg4",
        "colab_type": "code",
        "colab": {
          "base_uri": "https://localhost:8080/",
          "height": 34
        },
        "outputId": "de2b9ad9-683c-4eb5-9dcf-732ff9218148"
      },
      "source": [
        "a[0][0] = 0\n",
        "a[1] = None\n",
        "print(a,b,sep='\\n')\n"
      ],
      "execution_count": null,
      "outputs": [
        {
          "output_type": "stream",
          "text": [
            "[[0], None, [3]] [[0], [2], [3]]\n"
          ],
          "name": "stdout"
        }
      ]
    },
    {
      "cell_type": "code",
      "metadata": {
        "id": "IsOYPjhOo7M-",
        "colab_type": "code",
        "colab": {
          "base_uri": "https://localhost:8080/",
          "height": 50
        },
        "outputId": "322c2565-6a16-450b-b0b5-86073d46ebf7"
      },
      "source": [
        "a = [[1],[2],[3]]\n",
        "b = a[:]\n",
        "print(a,b, sep ='\\n')"
      ],
      "execution_count": null,
      "outputs": [
        {
          "output_type": "stream",
          "text": [
            "[[1], [2], [3]]\n",
            "[[1], [2], [3]]\n"
          ],
          "name": "stdout"
        }
      ]
    },
    {
      "cell_type": "code",
      "metadata": {
        "id": "eUy79Jf8pArR",
        "colab_type": "code",
        "colab": {
          "base_uri": "https://localhost:8080/",
          "height": 50
        },
        "outputId": "f57ad73a-bb70-4307-ad95-6cb058cfbbd7"
      },
      "source": [
        "a[0][0] = 0\n",
        "a[1] = None\n",
        "print(a,b, sep ='\\n')"
      ],
      "execution_count": null,
      "outputs": [
        {
          "output_type": "stream",
          "text": [
            "[[0], None, [3]]\n",
            "[[0], [2], [3]]\n"
          ],
          "name": "stdout"
        }
      ]
    },
    {
      "cell_type": "markdown",
      "metadata": {
        "id": "OZ2F0dWxiWlI",
        "colab_type": "text"
      },
      "source": [
        "# Практика\n"
      ]
    },
    {
      "cell_type": "markdown",
      "metadata": {
        "id": "DA2fDdbUiach",
        "colab_type": "text"
      },
      "source": [
        "## Задание 1\n",
        "a = [58, 10, 90, 63, 29, 45, 22, 39, 54, 31, 46, 53, 80, 10, 56]\n",
        "\n",
        "Напишите алгоритм, который для данного списка определит:\n",
        "* количество элементов меньше 11\n",
        "* количество элементов, которые вполовину меньше среднего арифметического для всего списка"
      ]
    },
    {
      "cell_type": "code",
      "metadata": {
        "id": "AqgM1N3eOfN7",
        "colab_type": "code",
        "colab": {
          "base_uri": "https://localhost:8080/",
          "height": 102
        },
        "outputId": "49e6b915-ec6b-49b1-c5a0-bf94a792560c"
      },
      "source": [
        "a = [58, 10, 90, 63, 29, 45, 22, 39, 54, 31, 46, 53, 80, 10, 56]\n",
        "k=0\n",
        "s=0\n",
        "for i in  a:\n",
        "  if i<11 : \n",
        "      k+=1\n",
        "      s+=i\n",
        "      /print (i)\n",
        "print (k)\n",
        "m=s/(2*len(a))\n",
        "for i in  a:\n",
        "  if i<11 : \n",
        "      k+=1\n",
        "      s+=i\n",
        "      /print (i)"
      ],
      "execution_count": 28,
      "outputs": [
        {
          "output_type": "stream",
          "text": [
            "10\n",
            "10\n",
            "2\n",
            "10\n",
            "10\n"
          ],
          "name": "stdout"
        }
      ]
    },
    {
      "cell_type": "markdown",
      "metadata": {
        "id": "-aCpWbkVjXh3",
        "colab_type": "text"
      },
      "source": [
        "## Задание 2\n",
        "Даны два списка:\n",
        "- количество копий генов\n",
        "- кодовые названия генов\n",
        "\n",
        "Пояснение: Ген 'has-let-7a' встречается 32 раза\n",
        "\n",
        "Gene_copy_numbers = [32,3,5,12,45,23,88,1,8,5,10,0,32,0,88]\n",
        "\n",
        "Gene_names = [“has-let-7a”,“has-mir-9” ,“has-mir-121” ,“has-mir-23”,\n",
        "“has-mir-19”, “has-mir-221”, “has-mir-89” , “has-mir-1034”, “has-mir-12”,\n",
        "“has-mir-2088”, “has-mir-56” , “has-mir-55a” , “has-mir-55b” ,\n",
        "“has-mir-127”, “has-mir-17”]\n",
        "\n",
        "Напишите алгорити, который:\n",
        "- находит цепочки РНК (маркировка -mir-), кол-во копий которых превосходит среднее кол-во копий для всех генов\n",
        "- выводит названия РНК c кол-во копий равным нулю\n",
        "- максимальное кол-во копий среди генов\n",
        "- постройте словарь 'название гена' -> 'кол-во копий' (погуглите zip())\n",
        "\n"
      ]
    },
    {
      "cell_type": "code",
      "metadata": {
        "id": "_M3jV7_5s1AR",
        "colab_type": "code",
        "colab": {}
      },
      "source": [
        "Gene_copy_numbers = [32,3,5,12,45,23,88,1,8,5,10,0,32,0,88]\n",
        "\n",
        "Gene_names = [\"has-let-7a\",\" \" ]\n",
        "\n",
        "numbers_and_names = dict(zip(Gene_copy_numbers, Gene_names))"
      ],
      "execution_count": 41,
      "outputs": []
    },
    {
      "cell_type": "code",
      "metadata": {
        "id": "-miD0pR4xWyW",
        "colab_type": "code",
        "colab": {}
      },
      "source": [
        "Gene_copy_numbers = [32,3,5,12,45,23,88,1,8,5,10,0,32,0,88]\n",
        "\n",
        "Gene_names = [“has-let-7a”,“has-mir-9” ,“has-mir-121” ,“has-mir-23”, “has-mir-19”, “has-mir-221”, “has-mir-89” , “has-mir-1034”, “has-mir-12”, “has-mir-2088”, “has-mir-56” , “has-mir-55a” , “has-mir-55b” , “has-mir-127”, “has-mir-17”]\n",
        "\n"
      ],
      "execution_count": null,
      "outputs": []
    },
    {
      "cell_type": "markdown",
      "metadata": {
        "id": "s76wpEF8lgMm",
        "colab_type": "text"
      },
      "source": [
        "## Задание 3\n",
        "\n",
        "Постройте небольшой словарь для перевода английских слов на русский:\n",
        "\n",
        "merry -> веселого\n",
        "\n",
        "christmas -> рождества\n",
        "\n",
        "and -> и\n",
        "\n",
        "happy -> счастливого\n",
        "\n",
        "new -> нового\n",
        "\n",
        "year -> года\n",
        "\n",
        "Используйте его для перевода простых предложений. \n",
        "\n",
        "Напишите 2 функции:\n",
        "* readSentence() - которое принимает строку на английком и возвращает список слов\n",
        "\n",
        "* translate() - принимает список английских слов и возвращает список русских\n",
        "\n",
        "\n"
      ]
    },
    {
      "cell_type": "markdown",
      "metadata": {
        "id": "qgRMi55emXfY",
        "colab_type": "text"
      },
      "source": [
        "## Задание 4* \n",
        "![image.png](data:image/png;base64,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)\n",
        "\n",
        "Используя типы данных, рассмотренные выше:\n",
        "* постройте бинарное дерево, как на рисунке\n",
        "* наполните его также\n",
        "* напишите функцию \"pretty printing\" для красивого вывода\n",
        "\n",
        "Не делайте:\n",
        "* Полный функционал для типа данных \"дерева\"\n",
        "* только красивый вывод на основе типов данных выше\n",
        "\n",
        "Пример:\n",
        "![image.png](data:image/png;base64,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)\n",
        "\n",
        "Удачи.\n"
      ]
    }
  ]
}